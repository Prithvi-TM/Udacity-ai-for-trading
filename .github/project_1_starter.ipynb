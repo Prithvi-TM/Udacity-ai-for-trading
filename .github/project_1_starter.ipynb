{
 "cells": [
  {
   "cell_type": "markdown",
   "metadata": {},
   "source": [
    "# Project 1: Trading with Momentum\n",
    "## Instructions\n",
    "Each problem consists of a function to implement and instructions on how to implement the function.  The parts of the function that need to be implemented are marked with a `# TODO` comment. After implementing the function, run the cell to test it against the unit tests we've provided. For each problem, we provide one or more unit tests from our `project_tests` package. These unit tests won't tell you if your answer is correct, but will warn you of any major errors. Your code will be checked for the correct solution when you submit it to Udacity.\n",
    "\n",
    "## Packages\n",
    "When you implement the functions, you'll only need to you use the packages you've used in the classroom, like [Pandas](https://pandas.pydata.org/) and [Numpy](http://www.numpy.org/). These packages will be imported for you. We recommend you don't add any import statements, otherwise the grader might not be able to run your code.\n",
    "\n",
    "The other packages that we're importing are `helper`, `project_helper`, and `project_tests`. These are custom packages built to help you solve the problems.  The `helper` and `project_helper` module contains utility functions and graph functions. The `project_tests` contains the unit tests for all the problems.\n",
    "\n",
    "### Install Packages"
   ]
  },
  {
   "cell_type": "code",
   "execution_count": null,
   "metadata": {},
   "outputs": [
    {
     "name": "stdout",
     "output_type": "stream",
     "text": [
      "Requirement already satisfied: colour==0.1.5 in /opt/conda/lib/python3.6/site-packages (from -r requirements.txt (line 1)) (0.1.5)\n",
      "Collecting cvxpy==1.0.3 (from -r requirements.txt (line 2))\n",
      "\u001b[?25l  Downloading https://files.pythonhosted.org/packages/a1/59/2613468ffbbe3a818934d06b81b9f4877fe054afbf4f99d2f43f398a0b34/cvxpy-1.0.3.tar.gz (880kB)\n",
      "\u001b[K    100% |████████████████████████████████| 880kB 10.7MB/s ta 0:00:01\n",
      "\u001b[?25hRequirement already satisfied: cycler==0.10.0 in /opt/conda/lib/python3.6/site-packages/cycler-0.10.0-py3.6.egg (from -r requirements.txt (line 3)) (0.10.0)\n",
      "Collecting numpy==1.13.3 (from -r requirements.txt (line 4))\n",
      "\u001b[?25l  Downloading https://files.pythonhosted.org/packages/57/a7/e3e6bd9d595125e1abbe162e323fd2d06f6f6683185294b79cd2cdb190d5/numpy-1.13.3-cp36-cp36m-manylinux1_x86_64.whl (17.0MB)\n",
      "\u001b[K    100% |████████████████████████████████| 17.0MB 2.0MB/s eta 0:00:01  2% |▉                               | 419kB 20.9MB/s eta 0:00:01    19% |██████▎                         | 3.3MB 20.2MB/s eta 0:00:01    25% |████████▏                       | 4.3MB 22.3MB/s eta 0:00:01    43% |██████████████                  | 7.5MB 22.2MB/s eta 0:00:01    66% |█████████████████████▎          | 11.3MB 20.3MB/s eta 0:00:01    72% |███████████████████████         | 12.2MB 21.8MB/s eta 0:00:01    77% |████████████████████████▊       | 13.1MB 19.2MB/s eta 0:00:01    82% |██████████████████████████▌     | 14.1MB 20.5MB/s eta 0:00:01    94% |██████████████████████████████▎ | 16.1MB 19.7MB/s eta 0:00:01\n",
      "\u001b[?25hCollecting pandas==0.21.1 (from -r requirements.txt (line 5))\n",
      "\u001b[?25l  Downloading https://files.pythonhosted.org/packages/3a/e1/6c514df670b887c77838ab856f57783c07e8760f2e3d5939203a39735e0e/pandas-0.21.1-cp36-cp36m-manylinux1_x86_64.whl (26.2MB)\n",
      "\u001b[K    100% |████████████████████████████████| 26.2MB 1.7MB/s eta 0:00:01   11% |███▋                            | 3.0MB 20.3MB/s eta 0:00:02    15% |████▉                           | 4.0MB 20.9MB/s eta 0:00:02    19% |██████                          | 5.0MB 21.9MB/s eta 0:00:01    26% |████████▋                       | 7.0MB 20.4MB/s eta 0:00:01    41% |█████████████▍                  | 11.0MB 20.3MB/s eta 0:00:01    56% |██████████████████▏             | 14.9MB 19.7MB/s eta 0:00:01    64% |████████████████████▌           | 16.8MB 20.1MB/s eta 0:00:01    89% |████████████████████████████▊   | 23.6MB 17.6MB/s eta 0:00:01    95% |██████████████████████████████▌ | 25.0MB 19.0MB/s eta 0:00:01\n",
      "\u001b[?25hCollecting plotly==2.2.3 (from -r requirements.txt (line 6))\n",
      "\u001b[?25l  Downloading https://files.pythonhosted.org/packages/99/a6/8214b6564bf4ace9bec8a26e7f89832792be582c042c47c912d3201328a0/plotly-2.2.3.tar.gz (1.1MB)\n",
      "\u001b[K    100% |████████████████████████████████| 1.1MB 13.4MB/s ta 0:00:01    59% |███████████████████             | 645kB 15.3MB/s eta 0:00:01\n",
      "\u001b[?25hRequirement already satisfied: pyparsing==2.2.0 in /opt/conda/lib/python3.6/site-packages (from -r requirements.txt (line 7)) (2.2.0)\n",
      "Requirement already satisfied: python-dateutil==2.6.1 in /opt/conda/lib/python3.6/site-packages (from -r requirements.txt (line 8)) (2.6.1)\n",
      "Requirement already satisfied: pytz==2017.3 in /opt/conda/lib/python3.6/site-packages (from -r requirements.txt (line 9)) (2017.3)\n",
      "Requirement already satisfied: requests==2.18.4 in /opt/conda/lib/python3.6/site-packages (from -r requirements.txt (line 10)) (2.18.4)\n",
      "Collecting scipy==1.0.0 (from -r requirements.txt (line 11))\n",
      "\u001b[?25l  Downloading https://files.pythonhosted.org/packages/d8/5e/caa01ba7be11600b6a9d39265440d7b3be3d69206da887c42bef049521f2/scipy-1.0.0-cp36-cp36m-manylinux1_x86_64.whl (50.0MB)\n",
      "\u001b[K    100% |████████████████████████████████| 50.0MB 428kB/s eta 0:00:01  2% |▉                               | 1.3MB 18.9MB/s eta 0:00:03    4% |█▍                              | 2.2MB 19.8MB/s eta 0:00:03    6% |██                              | 3.1MB 18.1MB/s eta 0:00:03    13% |████▏                           | 6.6MB 17.7MB/s eta 0:00:03    14% |████▊                           | 7.4MB 14.7MB/s eta 0:00:03    16% |█████▏                          | 8.1MB 13.8MB/s eta 0:00:04    18% |█████▊                          | 9.0MB 16.9MB/s eta 0:00:03    19% |██████▎                         | 9.9MB 18.7MB/s eta 0:00:03    23% |███████▍                        | 11.6MB 18.4MB/s eta 0:00:03    25% |████████                        | 12.6MB 19.2MB/s eta 0:00:02    30% |█████████▊                      | 15.2MB 17.3MB/s eta 0:00:03    33% |██████████▉                     | 16.9MB 16.7MB/s eta 0:00:02    35% |███████████▍                    | 17.9MB 19.1MB/s eta 0:00:02    37% |████████████                    | 18.7MB 19.0MB/s eta 0:00:02    39% |████████████▌                   | 19.5MB 16.1MB/s eta 0:00:02    40% |█████████████                   | 20.3MB 15.7MB/s eta 0:00:02    42% |█████████████▌                  | 21.1MB 18.5MB/s eta 0:00:02    44% |██████████████                  | 22.0MB 16.5MB/s eta 0:00:02    45% |██████████████▋                 | 22.9MB 15.4MB/s eta 0:00:02    47% |███████████████▏                | 23.7MB 18.4MB/s eta 0:00:02    48% |███████████████▋                | 24.5MB 16.1MB/s eta 0:00:02    53% |█████████████████▎              | 26.9MB 16.8MB/s eta 0:00:02    58% |██████████████████▊             | 29.2MB 16.5MB/s eta 0:00:02    59% |███████████████████▏            | 30.0MB 14.2MB/s eta 0:00:02    62% |████████████████████            | 31.4MB 16.7MB/s eta 0:00:02    64% |████████████████████▊           | 32.3MB 15.4MB/s eta 0:00:02    66% |█████████████████████▎          | 33.2MB 18.5MB/s eta 0:00:01    67% |█████████████████████▊          | 33.9MB 12.8MB/s eta 0:00:02    69% |██████████████████████▏         | 34.6MB 15.2MB/s eta 0:00:02    70% |██████████████████████▊         | 35.5MB 16.8MB/s eta 0:00:01    72% |███████████████████████▏        | 36.2MB 13.8MB/s eta 0:00:02    75% |████████████████████████▏       | 37.7MB 14.1MB/s eta 0:00:01    76% |████████████████████████▋       | 38.4MB 13.5MB/s eta 0:00:01    78% |█████████████████████████       | 39.1MB 13.9MB/s eta 0:00:01    79% |█████████████████████████▌      | 39.9MB 17.5MB/s eta 0:00:01    82% |██████████████████████████▌     | 41.4MB 19.0MB/s eta 0:00:01    84% |███████████████████████████     | 42.3MB 17.7MB/s eta 0:00:01    86% |███████████████████████████▋    | 43.1MB 13.5MB/s eta 0:00:01    90% |████████████████████████████▉   | 45.1MB 15.7MB/s eta 0:00:01    92% |█████████████████████████████▊  | 46.4MB 13.5MB/s eta 0:00:01    94% |██████████████████████████████▏ | 47.2MB 16.5MB/s eta 0:00:01    97% |███████████████████████████████▏| 48.8MB 17.0MB/s eta 0:00:01    99% |███████████████████████████████▊| 49.6MB 17.2MB/s eta 0:00:01\n",
      "\u001b[?25hRequirement already satisfied: scikit-learn==0.19.1 in /opt/conda/lib/python3.6/site-packages (from -r requirements.txt (line 12)) (0.19.1)\n",
      "Requirement already satisfied: six==1.11.0 in /opt/conda/lib/python3.6/site-packages (from -r requirements.txt (line 13)) (1.11.0)\n",
      "Collecting tqdm==4.19.5 (from -r requirements.txt (line 14))\n",
      "\u001b[?25l  Downloading https://files.pythonhosted.org/packages/71/3c/341b4fa23cb3abc335207dba057c790f3bb329f6757e1fcd5d347bcf8308/tqdm-4.19.5-py2.py3-none-any.whl (51kB)\n",
      "\u001b[K    100% |████████████████████████████████| 61kB 5.0MB/s ta 0:00:01\n",
      "\u001b[?25hCollecting osqp (from cvxpy==1.0.3->-r requirements.txt (line 2))\n",
      "\u001b[?25l  Downloading https://files.pythonhosted.org/packages/76/82/b0693a167e4b9b5e94f4988f6df3d7866e9e41a316a58f1053dd21370f1a/osqp-0.6.2.post0-cp36-cp36m-manylinux1_x86_64.whl (211kB)\n",
      "\u001b[K    100% |████████████████████████████████| 215kB 13.6MB/s ta 0:00:01\n",
      "\u001b[?25hCollecting ecos>=2 (from cvxpy==1.0.3->-r requirements.txt (line 2))\n",
      "\u001b[?25l  Downloading https://files.pythonhosted.org/packages/55/ed/d131ff51f3a8f73420eb1191345eb49f269f23cadef515172e356018cde3/ecos-2.0.7.post1-cp36-cp36m-manylinux1_x86_64.whl (147kB)\n",
      "\u001b[K    100% |████████████████████████████████| 153kB 9.6MB/s eta 0:00:01  62% |████████████████████            | 92kB 10.5MB/s eta 0:00:01\n",
      "\u001b[?25hCollecting scs>=1.1.3 (from cvxpy==1.0.3->-r requirements.txt (line 2))\n",
      "\u001b[?25l  Downloading https://files.pythonhosted.org/packages/12/bd/1ab6a3b3f2791741e6e7c142f932ea1808277e92167e322dec43271b2225/scs-2.1.3.tar.gz (147kB)\n",
      "\u001b[K    100% |████████████████████████████████| 153kB 12.3MB/s ta 0:00:01\n"
     ]
    },
    {
     "name": "stdout",
     "output_type": "stream",
     "text": [
      "\u001b[?25hCollecting multiprocess (from cvxpy==1.0.3->-r requirements.txt (line 2))\n",
      "\u001b[?25l  Downloading https://files.pythonhosted.org/packages/8f/dc/426a82723c460cfab653ebb717590103d6e38cebc9d1f599b0898915ac1d/multiprocess-0.70.11.1-py36-none-any.whl (101kB)\n",
      "\u001b[K    100% |████████████████████████████████| 102kB 8.6MB/s a 0:00:01\n",
      "\u001b[?25hRequirement already satisfied: fastcache in /opt/conda/lib/python3.6/site-packages (from cvxpy==1.0.3->-r requirements.txt (line 2)) (1.0.2)\n",
      "Requirement already satisfied: toolz in /opt/conda/lib/python3.6/site-packages (from cvxpy==1.0.3->-r requirements.txt (line 2)) (0.8.2)\n",
      "Requirement already satisfied: decorator>=4.0.6 in /opt/conda/lib/python3.6/site-packages (from plotly==2.2.3->-r requirements.txt (line 6)) (4.0.11)\n",
      "Requirement already satisfied: nbformat>=4.2 in /opt/conda/lib/python3.6/site-packages (from plotly==2.2.3->-r requirements.txt (line 6)) (4.4.0)\n",
      "Requirement already satisfied: chardet<3.1.0,>=3.0.2 in /opt/conda/lib/python3.6/site-packages (from requests==2.18.4->-r requirements.txt (line 10)) (3.0.4)\n",
      "Requirement already satisfied: idna<2.7,>=2.5 in /opt/conda/lib/python3.6/site-packages (from requests==2.18.4->-r requirements.txt (line 10)) (2.6)\n",
      "Requirement already satisfied: urllib3<1.23,>=1.21.1 in /opt/conda/lib/python3.6/site-packages (from requests==2.18.4->-r requirements.txt (line 10)) (1.22)\n",
      "Requirement already satisfied: certifi>=2017.4.17 in /opt/conda/lib/python3.6/site-packages (from requests==2.18.4->-r requirements.txt (line 10)) (2019.11.28)\n",
      "Collecting qdldl (from osqp->cvxpy==1.0.3->-r requirements.txt (line 2))\n",
      "\u001b[?25l  Downloading https://files.pythonhosted.org/packages/ec/a3/db0e7c9fec5387dc33cbd2819329c141ba76497148aa9fab4bd1a7c2a279/qdldl-0.1.5.post0.tar.gz (69kB)\n",
      "\u001b[K    100% |████████████████████████████████| 71kB 7.9MB/s ta 0:00:01\n",
      "\u001b[?25hCollecting dill>=0.3.3 (from multiprocess->cvxpy==1.0.3->-r requirements.txt (line 2))\n",
      "\u001b[?25l  Downloading https://files.pythonhosted.org/packages/52/d6/79f40d230895fa1ce3b6af0d22e0ac79c65175dc069c194b79cc8e05a033/dill-0.3.3-py2.py3-none-any.whl (81kB)\n",
      "\u001b[K    100% |████████████████████████████████| 81kB 5.9MB/s ta 0:00:01    50% |████████████████▏               | 40kB 9.3MB/s eta 0:00:01\n",
      "\u001b[?25hRequirement already satisfied: ipython-genutils in /opt/conda/lib/python3.6/site-packages (from nbformat>=4.2->plotly==2.2.3->-r requirements.txt (line 6)) (0.2.0)\n",
      "Requirement already satisfied: jupyter-core in /opt/conda/lib/python3.6/site-packages (from nbformat>=4.2->plotly==2.2.3->-r requirements.txt (line 6)) (4.4.0)\n",
      "Requirement already satisfied: jsonschema!=2.5.0,>=2.4 in /opt/conda/lib/python3.6/site-packages (from nbformat>=4.2->plotly==2.2.3->-r requirements.txt (line 6)) (2.6.0)\n",
      "Requirement already satisfied: traitlets>=4.1 in /opt/conda/lib/python3.6/site-packages (from nbformat>=4.2->plotly==2.2.3->-r requirements.txt (line 6)) (4.3.2)\n",
      "Building wheels for collected packages: cvxpy, plotly, scs, qdldl\n",
      "  Running setup.py bdist_wheel for cvxpy ... \u001b[?25l\\"
     ]
    }
   ],
   "source": [
    "import sys\n",
    "!{sys.executable} -m pip install -r requirements.txt"
   ]
  },
  {
   "cell_type": "markdown",
   "metadata": {},
   "source": [
    "### Load Packages"
   ]
  },
  {
   "cell_type": "code",
   "execution_count": 2,
   "metadata": {},
   "outputs": [
    {
     "data": {
      "text/html": [
       "<script>requirejs.config({paths: { 'plotly': ['https://cdn.plot.ly/plotly-latest.min']},});if(!window.Plotly) {{require(['plotly'],function(plotly) {window.Plotly=plotly;});}}</script>"
      ],
      "text/vnd.plotly.v1+html": [
       "<script>requirejs.config({paths: { 'plotly': ['https://cdn.plot.ly/plotly-latest.min']},});if(!window.Plotly) {{require(['plotly'],function(plotly) {window.Plotly=plotly;});}}</script>"
      ]
     },
     "metadata": {},
     "output_type": "display_data"
    }
   ],
   "source": [
    "import pandas as pd\n",
    "import numpy as np\n",
    "import helper\n",
    "import project_helper\n",
    "import project_tests"
   ]
  },
  {
   "cell_type": "markdown",
   "metadata": {},
   "source": [
    "## Market Data\n",
    "### Load Data\n",
    "The data we use for most of the projects is end of day data. This contains data for many stocks, but we'll be looking at stocks in the S&P 500. We also made things a little easier to run by narrowing down our range of time period instead of using all of the data."
   ]
  },
  {
   "cell_type": "code",
   "execution_count": 56,
   "metadata": {},
   "outputs": [
    {
     "name": "stdout",
     "output_type": "stream",
     "text": [
      "Loaded Data\n"
     ]
    }
   ],
   "source": [
    "df = pd.read_csv('../../data/project_1/eod-quotemedia.csv', parse_dates=['date'], index_col=False)\n",
    "\n",
    "close = df.reset_index().pivot(index='date', columns='ticker', values='adj_close')\n",
    "\n",
    "print('Loaded Data')"
   ]
  },
  {
   "cell_type": "markdown",
   "metadata": {},
   "source": [
    "### View Data\n",
    "Run the cell below to see what the data looks like for `close`."
   ]
  },
  {
   "cell_type": "code",
   "execution_count": 1,
   "metadata": {
    "scrolled": true
   },
   "outputs": [
    {
     "ename": "NameError",
     "evalue": "name 'project_helper' is not defined",
     "output_type": "error",
     "traceback": [
      "\u001b[0;31m---------------------------------------------------------------------------\u001b[0m",
      "\u001b[0;31mNameError\u001b[0m                                 Traceback (most recent call last)",
      "\u001b[0;32m<ipython-input-1-38528e5326b4>\u001b[0m in \u001b[0;36m<module>\u001b[0;34m()\u001b[0m\n\u001b[0;32m----> 1\u001b[0;31m \u001b[0mproject_helper\u001b[0m\u001b[0;34m.\u001b[0m\u001b[0mprint_dataframe\u001b[0m\u001b[0;34m(\u001b[0m\u001b[0mclose\u001b[0m\u001b[0;34m)\u001b[0m\u001b[0;34m\u001b[0m\u001b[0m\n\u001b[0m",
      "\u001b[0;31mNameError\u001b[0m: name 'project_helper' is not defined"
     ]
    }
   ],
   "source": [
    "project_helper.print_dataframe(close)"
   ]
  },
  {
   "cell_type": "markdown",
   "metadata": {},
   "source": [
    "### Stock Example\n",
    "Let's see what a single stock looks like from the closing prices. For this example and future display examples in this project, we'll use Apple's stock (AAPL). If we tried to graph all the stocks, it would be too much information."
   ]
  },
  {
   "cell_type": "code",
   "execution_count": 2,
   "metadata": {},
   "outputs": [
    {
     "ename": "NameError",
     "evalue": "name 'project_helper' is not defined",
     "output_type": "error",
     "traceback": [
      "\u001b[0;31m---------------------------------------------------------------------------\u001b[0m",
      "\u001b[0;31mNameError\u001b[0m                                 Traceback (most recent call last)",
      "\u001b[0;32m<ipython-input-2-2b8352748556>\u001b[0m in \u001b[0;36m<module>\u001b[0;34m()\u001b[0m\n\u001b[1;32m      1\u001b[0m \u001b[0mapple_ticker\u001b[0m \u001b[0;34m=\u001b[0m \u001b[0;34m'AAPL'\u001b[0m\u001b[0;34m\u001b[0m\u001b[0m\n\u001b[0;32m----> 2\u001b[0;31m \u001b[0mproject_helper\u001b[0m\u001b[0;34m.\u001b[0m\u001b[0mplot_stock\u001b[0m\u001b[0;34m(\u001b[0m\u001b[0mclose\u001b[0m\u001b[0;34m[\u001b[0m\u001b[0mapple_ticker\u001b[0m\u001b[0;34m]\u001b[0m\u001b[0;34m,\u001b[0m \u001b[0;34m'{} Stock'\u001b[0m\u001b[0;34m.\u001b[0m\u001b[0mformat\u001b[0m\u001b[0;34m(\u001b[0m\u001b[0mapple_ticker\u001b[0m\u001b[0;34m)\u001b[0m\u001b[0;34m)\u001b[0m\u001b[0;34m\u001b[0m\u001b[0m\n\u001b[0m",
      "\u001b[0;31mNameError\u001b[0m: name 'project_helper' is not defined"
     ]
    }
   ],
   "source": [
    "apple_ticker = 'AAPL'\n",
    "project_helper.plot_stock(close[apple_ticker], '{} Stock'.format(apple_ticker))"
   ]
  },
  {
   "cell_type": "markdown",
   "metadata": {},
   "source": [
    "## Resample Adjusted Prices\n",
    "\n",
    "The trading signal you'll develop in this project does not need to be based on daily prices, for instance, you can use month-end prices to perform trading once a month. To do this, you must first resample the daily adjusted closing prices into monthly buckets, and select the last observation of each month.\n",
    "\n",
    "Implement the `resample_prices` to resample `close_prices` at the sampling frequency of `freq`."
   ]
  },
  {
   "cell_type": "code",
   "execution_count": 3,
   "metadata": {},
   "outputs": [
    {
     "ename": "NameError",
     "evalue": "name 'project_tests' is not defined",
     "output_type": "error",
     "traceback": [
      "\u001b[0;31m---------------------------------------------------------------------------\u001b[0m",
      "\u001b[0;31mNameError\u001b[0m                                 Traceback (most recent call last)",
      "\u001b[0;32m<ipython-input-3-d328ae57b0e2>\u001b[0m in \u001b[0;36m<module>\u001b[0;34m()\u001b[0m\n\u001b[1;32m     21\u001b[0m \u001b[0;34m\u001b[0m\u001b[0m\n\u001b[1;32m     22\u001b[0m \u001b[0;34m\u001b[0m\u001b[0m\n\u001b[0;32m---> 23\u001b[0;31m \u001b[0mproject_tests\u001b[0m\u001b[0;34m.\u001b[0m\u001b[0mtest_resample_prices\u001b[0m\u001b[0;34m(\u001b[0m\u001b[0mresample_prices\u001b[0m\u001b[0;34m)\u001b[0m\u001b[0;34m\u001b[0m\u001b[0m\n\u001b[0m",
      "\u001b[0;31mNameError\u001b[0m: name 'project_tests' is not defined"
     ]
    }
   ],
   "source": [
    "def resample_prices(close_prices, freq='M'):\n",
    "    \"\"\"\n",
    "    Resample close prices for each ticker at specified frequency.\n",
    "    \n",
    "    Parameters\n",
    "    ----------\n",
    "    close_prices : DataFrame\n",
    "        Close prices for each ticker and date\n",
    "    freq : str\n",
    "        What frequency to sample at\n",
    "        For valid freq choices, see http://pandas.pydata.org/pandas-docs/stable/timeseries.html#offset-aliases\n",
    "    \n",
    "    Returns\n",
    "    -------\n",
    "    prices_resampled : DataFrame\n",
    "        Resampled prices for each ticker and date\n",
    "    \"\"\"\n",
    "    # TODO: Implement Function\n",
    "    resample=close_prices.resample(freq).last()\n",
    "    return resample\n",
    "   \n",
    "\n",
    "project_tests.test_resample_prices(resample_prices)"
   ]
  },
  {
   "cell_type": "markdown",
   "metadata": {},
   "source": [
    "### View Data\n",
    "Let's apply this function to `close` and view the results."
   ]
  },
  {
   "cell_type": "code",
   "execution_count": null,
   "metadata": {},
   "outputs": [],
   "source": [
    "monthly_close = resample_prices(close)\n",
    "\n",
    "#print(monthly_close)\n",
    "project_helper.plot_resampled_prices(\n",
    "    monthly_close.loc[:, apple_ticker],\n",
    "    close.loc[:, apple_ticker],\n",
    "    '{} Stock - Close Vs Monthly Close'.format(apple_ticker))"
   ]
  },
  {
   "cell_type": "markdown",
   "metadata": {},
   "source": [
    "## Compute Log Returns\n",
    "\n",
    "Compute log returns ($R_t$) from prices ($P_t$) as your primary momentum indicator:\n",
    "\n",
    "$$R_t = log_e(P_t) - log_e(P_{t-1})$$\n",
    "\n",
    "Implement the `compute_log_returns` function below, such that it accepts a dataframe (like one returned by `resample_prices`), and produces a similar dataframe of log returns. Use Numpy's [log function](https://docs.scipy.org/doc/numpy/reference/generated/numpy.log.html) to help you calculate the log returns."
   ]
  },
  {
   "cell_type": "code",
   "execution_count": 60,
   "metadata": {},
   "outputs": [
    {
     "name": "stdout",
     "output_type": "stream",
     "text": [
      "Tests Passed\n"
     ]
    }
   ],
   "source": [
    "def compute_log_returns(prices):\n",
    "    \"\"\"\n",
    "    Compute log returns for each ticker.\n",
    "    \n",
    "    Parameters\n",
    "    ----------\n",
    "    prices : DataFrame\n",
    "        Prices for each ticker and date\n",
    "    \n",
    "    Returns\n",
    "    -------\n",
    "    log_returns : DataFrame\n",
    "        Log returns for each ticker and date\n",
    "    \"\"\"\n",
    "    # TODO: Implement Function\n",
    "    shifted_prices = prices.shift(1)\n",
    "    computed_returns = np.log(prices)-np.log(shifted_prices)\n",
    "     \n",
    "    \n",
    "    return computed_returns\n",
    "\n",
    "project_tests.test_compute_log_returns(compute_log_returns)"
   ]
  },
  {
   "cell_type": "markdown",
   "metadata": {},
   "source": [
    "### View Data\n",
    "Using the same data returned from `resample_prices`, we'll generate the log returns."
   ]
  },
  {
   "cell_type": "code",
   "execution_count": null,
   "metadata": {},
   "outputs": [],
   "source": [
    "monthly_close_returns = compute_log_returns(monthly_close)\n",
    "project_helper.plot_returns(\n",
    "    monthly_close_returns.loc[:, apple_ticker],\n",
    "    'Log Returns of {} Stock (Monthly)'.format(apple_ticker))"
   ]
  },
  {
   "cell_type": "markdown",
   "metadata": {},
   "source": [
    "## Shift Returns\n",
    "Implement the `shift_returns` function to shift the log returns to the previous or future returns in the time series. For example, the parameter `shift_n` is 2 and `returns` is the following:\n",
    "\n",
    "```\n",
    "                           Returns\n",
    "               A         B         C         D\n",
    "2013-07-08     0.015     0.082     0.096     0.020     ...\n",
    "2013-07-09     0.037     0.095     0.027     0.063     ...\n",
    "2013-07-10     0.094     0.001     0.093     0.019     ...\n",
    "2013-07-11     0.092     0.057     0.069     0.087     ...\n",
    "...            ...       ...       ...       ...\n",
    "```\n",
    "\n",
    "the output of the `shift_returns` function would be:\n",
    "```\n",
    "                        Shift Returns\n",
    "               A         B         C         D\n",
    "2013-07-08     NaN       NaN       NaN       NaN       ...\n",
    "2013-07-09     NaN       NaN       NaN       NaN       ...\n",
    "2013-07-10     0.015     0.082     0.096     0.020     ...\n",
    "2013-07-11     0.037     0.095     0.027     0.063     ...\n",
    "...            ...       ...       ...       ...\n",
    "```\n",
    "Using the same `returns` data as above, the `shift_returns` function should generate the following with `shift_n` as -2:\n",
    "```\n",
    "                        Shift Returns\n",
    "               A         B         C         D\n",
    "2013-07-08     0.094     0.001     0.093     0.019     ...\n",
    "2013-07-09     0.092     0.057     0.069     0.087     ...\n",
    "...            ...       ...       ...       ...       ...\n",
    "...            ...       ...       ...       ...       ...\n",
    "...            NaN       NaN       NaN       NaN       ...\n",
    "...            NaN       NaN       NaN       NaN       ...\n",
    "```\n",
    "_Note: The \"...\" represents data points we're not showing._"
   ]
  },
  {
   "cell_type": "code",
   "execution_count": 64,
   "metadata": {},
   "outputs": [
    {
     "name": "stdout",
     "output_type": "stream",
     "text": [
      "Tests Passed\n"
     ]
    }
   ],
   "source": [
    "def shift_returns(returns, shift_n):\n",
    "    \"\"\"\n",
    "    Generate shifted returns\n",
    "    \n",
    "    Parameters\n",
    "    ----------\n",
    "    returns : DataFrame\n",
    "        Returns for each ticker and date\n",
    "    shift_n : int\n",
    "        Number of periods to move, can be positive or negative\n",
    "    \n",
    "    Returns\n",
    "    -------\n",
    "    shifted_returns : DataFrame\n",
    "        Shifted returns for each ticker and date\n",
    "    \"\"\"\n",
    "    # TODO: Implement Function\n",
    "    \n",
    "    return returns.shift(shift_n)\n",
    "\n",
    "project_tests.test_shift_returns(shift_returns)"
   ]
  },
  {
   "cell_type": "markdown",
   "metadata": {},
   "source": [
    "### View Data\n",
    "Let's get the previous month's and next month's returns."
   ]
  },
  {
   "cell_type": "code",
   "execution_count": 65,
   "metadata": {},
   "outputs": [
    {
     "data": {
      "application/vnd.plotly.v1+json": {
       "data": [
        {
         "line": {
          "color": "#2D3ECF"
         },
         "mode": "line",
         "name": "Shifted Returns",
         "type": "scatter",
         "x": [
          "2013-07-31",
          "2013-08-31",
          "2013-09-30",
          "2013-10-31",
          "2013-11-30",
          "2013-12-31",
          "2014-01-31",
          "2014-02-28",
          "2014-03-31",
          "2014-04-30",
          "2014-05-31",
          "2014-06-30",
          "2014-07-31",
          "2014-08-31",
          "2014-09-30",
          "2014-10-31",
          "2014-11-30",
          "2014-12-31",
          "2015-01-31",
          "2015-02-28",
          "2015-03-31",
          "2015-04-30",
          "2015-05-31",
          "2015-06-30",
          "2015-07-31",
          "2015-08-31",
          "2015-09-30",
          "2015-10-31",
          "2015-11-30",
          "2015-12-31",
          "2016-01-31",
          "2016-02-29",
          "2016-03-31",
          "2016-04-30",
          "2016-05-31",
          "2016-06-30",
          "2016-07-31",
          "2016-08-31",
          "2016-09-30",
          "2016-10-31",
          "2016-11-30",
          "2016-12-31",
          "2017-01-31",
          "2017-02-28",
          "2017-03-31",
          "2017-04-30",
          "2017-05-31",
          "2017-06-30"
         ],
         "y": [
          null,
          null,
          0.0804476167699244,
          -0.02171531209840971,
          0.09201926751761658,
          0.06772062528255329,
          0.008862369904605316,
          -0.11394917651344016,
          0.05588346896232643,
          0.0197564234971761,
          0.09476126170131938,
          0.07577509203027688,
          0.027286248480385744,
          0.02832629848810697,
          0.0746522438902959,
          -0.017220597751671285,
          0.06948902629742815,
          0.10071836377994803,
          -0.0746061267277982,
          0.05961156394817735,
          0.09598801803387769,
          -0.0318742630421065,
          0.005769709090243325,
          0.04431573454833959,
          -0.03797801003771628,
          -0.033441154420311925,
          -0.06849868571221762,
          -0.025235949245141498,
          0.08329065437079475,
          -0.005801456651161274,
          -0.11679029105870864,
          -0.07822347552032394,
          -0.001331433817136407,
          0.11974615040576353,
          -0.1507311424066602,
          0.06933885854820687,
          -0.04359638501510865,
          0.08623527394698094,
          0.023343471369801527,
          0.06344815310404162,
          0.004324999018601616,
          -0.021782279644624758,
          0.046840761742427794,
          0.04664167037496725,
          0.12552424621905978,
          0.04754146618335664,
          -6.961122135695774e-05,
          0.06557216424023249
         ]
        },
        {
         "line": {
          "color": "#B6B2CF"
         },
         "mode": "line",
         "name": "Returns",
         "type": "scatter",
         "x": [
          "2013-07-31",
          "2013-08-31",
          "2013-09-30",
          "2013-10-31",
          "2013-11-30",
          "2013-12-31",
          "2014-01-31",
          "2014-02-28",
          "2014-03-31",
          "2014-04-30",
          "2014-05-31",
          "2014-06-30",
          "2014-07-31",
          "2014-08-31",
          "2014-09-30",
          "2014-10-31",
          "2014-11-30",
          "2014-12-31",
          "2015-01-31",
          "2015-02-28",
          "2015-03-31",
          "2015-04-30",
          "2015-05-31",
          "2015-06-30",
          "2015-07-31",
          "2015-08-31",
          "2015-09-30",
          "2015-10-31",
          "2015-11-30",
          "2015-12-31",
          "2016-01-31",
          "2016-02-29",
          "2016-03-31",
          "2016-04-30",
          "2016-05-31",
          "2016-06-30",
          "2016-07-31",
          "2016-08-31",
          "2016-09-30",
          "2016-10-31",
          "2016-11-30",
          "2016-12-31",
          "2017-01-31",
          "2017-02-28",
          "2017-03-31",
          "2017-04-30",
          "2017-05-31",
          "2017-06-30"
         ],
         "y": [
          null,
          0.0804476167699244,
          -0.02171531209840971,
          0.09201926751761658,
          0.06772062528255329,
          0.008862369904605316,
          -0.11394917651344016,
          0.05588346896232643,
          0.0197564234971761,
          0.09476126170131938,
          0.07577509203027688,
          0.027286248480385744,
          0.02832629848810697,
          0.0746522438902959,
          -0.017220597751671285,
          0.06948902629742815,
          0.10071836377994803,
          -0.0746061267277982,
          0.05961156394817735,
          0.09598801803387769,
          -0.0318742630421065,
          0.005769709090243325,
          0.04431573454833959,
          -0.03797801003771628,
          -0.033441154420311925,
          -0.06849868571221762,
          -0.025235949245141498,
          0.08329065437079475,
          -0.005801456651161274,
          -0.11679029105870864,
          -0.07822347552032394,
          -0.001331433817136407,
          0.11974615040576353,
          -0.1507311424066602,
          0.06933885854820687,
          -0.04359638501510865,
          0.08623527394698094,
          0.023343471369801527,
          0.06344815310404162,
          0.004324999018601616,
          -0.021782279644624758,
          0.046840761742427794,
          0.04664167037496725,
          0.12552424621905978,
          0.04754146618335664,
          -6.961122135695774e-05,
          0.06557216424023249,
          -0.05891588353659394
         ]
        }
       ],
       "layout": {
        "title": "Previous Returns of AAPL Stock"
       }
      },
      "text/html": [
       "<div id=\"fe5913dc-fce4-4695-ae0b-cc7065de34a8\" style=\"height: 525px; width: 100%;\" class=\"plotly-graph-div\"></div><script type=\"text/javascript\">require([\"plotly\"], function(Plotly) { window.PLOTLYENV=window.PLOTLYENV || {};window.PLOTLYENV.BASE_URL=\"https://plot.ly\";Plotly.newPlot(\"fe5913dc-fce4-4695-ae0b-cc7065de34a8\", [{\"type\": \"scatter\", \"name\": \"Shifted Returns\", \"x\": [\"2013-07-31\", \"2013-08-31\", \"2013-09-30\", \"2013-10-31\", \"2013-11-30\", \"2013-12-31\", \"2014-01-31\", \"2014-02-28\", \"2014-03-31\", \"2014-04-30\", \"2014-05-31\", \"2014-06-30\", \"2014-07-31\", \"2014-08-31\", \"2014-09-30\", \"2014-10-31\", \"2014-11-30\", \"2014-12-31\", \"2015-01-31\", \"2015-02-28\", \"2015-03-31\", \"2015-04-30\", \"2015-05-31\", \"2015-06-30\", \"2015-07-31\", \"2015-08-31\", \"2015-09-30\", \"2015-10-31\", \"2015-11-30\", \"2015-12-31\", \"2016-01-31\", \"2016-02-29\", \"2016-03-31\", \"2016-04-30\", \"2016-05-31\", \"2016-06-30\", \"2016-07-31\", \"2016-08-31\", \"2016-09-30\", \"2016-10-31\", \"2016-11-30\", \"2016-12-31\", \"2017-01-31\", \"2017-02-28\", \"2017-03-31\", \"2017-04-30\", \"2017-05-31\", \"2017-06-30\"], \"y\": [null, null, 0.0804476167699244, -0.02171531209840971, 0.09201926751761658, 0.06772062528255329, 0.008862369904605316, -0.11394917651344016, 0.05588346896232643, 0.0197564234971761, 0.09476126170131938, 0.07577509203027688, 0.027286248480385744, 0.02832629848810697, 0.0746522438902959, -0.017220597751671285, 0.06948902629742815, 0.10071836377994803, -0.0746061267277982, 0.05961156394817735, 0.09598801803387769, -0.0318742630421065, 0.005769709090243325, 0.04431573454833959, -0.03797801003771628, -0.033441154420311925, -0.06849868571221762, -0.025235949245141498, 0.08329065437079475, -0.005801456651161274, -0.11679029105870864, -0.07822347552032394, -0.001331433817136407, 0.11974615040576353, -0.1507311424066602, 0.06933885854820687, -0.04359638501510865, 0.08623527394698094, 0.023343471369801527, 0.06344815310404162, 0.004324999018601616, -0.021782279644624758, 0.046840761742427794, 0.04664167037496725, 0.12552424621905978, 0.04754146618335664, -6.961122135695774e-05, 0.06557216424023249], \"mode\": \"line\", \"line\": {\"color\": \"#2D3ECF\"}}, {\"type\": \"scatter\", \"name\": \"Returns\", \"x\": [\"2013-07-31\", \"2013-08-31\", \"2013-09-30\", \"2013-10-31\", \"2013-11-30\", \"2013-12-31\", \"2014-01-31\", \"2014-02-28\", \"2014-03-31\", \"2014-04-30\", \"2014-05-31\", \"2014-06-30\", \"2014-07-31\", \"2014-08-31\", \"2014-09-30\", \"2014-10-31\", \"2014-11-30\", \"2014-12-31\", \"2015-01-31\", \"2015-02-28\", \"2015-03-31\", \"2015-04-30\", \"2015-05-31\", \"2015-06-30\", \"2015-07-31\", \"2015-08-31\", \"2015-09-30\", \"2015-10-31\", \"2015-11-30\", \"2015-12-31\", \"2016-01-31\", \"2016-02-29\", \"2016-03-31\", \"2016-04-30\", \"2016-05-31\", \"2016-06-30\", \"2016-07-31\", \"2016-08-31\", \"2016-09-30\", \"2016-10-31\", \"2016-11-30\", \"2016-12-31\", \"2017-01-31\", \"2017-02-28\", \"2017-03-31\", \"2017-04-30\", \"2017-05-31\", \"2017-06-30\"], \"y\": [null, 0.0804476167699244, -0.02171531209840971, 0.09201926751761658, 0.06772062528255329, 0.008862369904605316, -0.11394917651344016, 0.05588346896232643, 0.0197564234971761, 0.09476126170131938, 0.07577509203027688, 0.027286248480385744, 0.02832629848810697, 0.0746522438902959, -0.017220597751671285, 0.06948902629742815, 0.10071836377994803, -0.0746061267277982, 0.05961156394817735, 0.09598801803387769, -0.0318742630421065, 0.005769709090243325, 0.04431573454833959, -0.03797801003771628, -0.033441154420311925, -0.06849868571221762, -0.025235949245141498, 0.08329065437079475, -0.005801456651161274, -0.11679029105870864, -0.07822347552032394, -0.001331433817136407, 0.11974615040576353, -0.1507311424066602, 0.06933885854820687, -0.04359638501510865, 0.08623527394698094, 0.023343471369801527, 0.06344815310404162, 0.004324999018601616, -0.021782279644624758, 0.046840761742427794, 0.04664167037496725, 0.12552424621905978, 0.04754146618335664, -6.961122135695774e-05, 0.06557216424023249, -0.05891588353659394], \"mode\": \"line\", \"line\": {\"color\": \"#B6B2CF\"}}], {\"title\": \"Previous Returns of AAPL Stock\"}, {\"showLink\": false, \"linkText\": \"Export to plot.ly\", \"displayModeBar\": false})});</script>"
      ],
      "text/vnd.plotly.v1+html": [
       "<div id=\"fe5913dc-fce4-4695-ae0b-cc7065de34a8\" style=\"height: 525px; width: 100%;\" class=\"plotly-graph-div\"></div><script type=\"text/javascript\">require([\"plotly\"], function(Plotly) { window.PLOTLYENV=window.PLOTLYENV || {};window.PLOTLYENV.BASE_URL=\"https://plot.ly\";Plotly.newPlot(\"fe5913dc-fce4-4695-ae0b-cc7065de34a8\", [{\"type\": \"scatter\", \"name\": \"Shifted Returns\", \"x\": [\"2013-07-31\", \"2013-08-31\", \"2013-09-30\", \"2013-10-31\", \"2013-11-30\", \"2013-12-31\", \"2014-01-31\", \"2014-02-28\", \"2014-03-31\", \"2014-04-30\", \"2014-05-31\", \"2014-06-30\", \"2014-07-31\", \"2014-08-31\", \"2014-09-30\", \"2014-10-31\", \"2014-11-30\", \"2014-12-31\", \"2015-01-31\", \"2015-02-28\", \"2015-03-31\", \"2015-04-30\", \"2015-05-31\", \"2015-06-30\", \"2015-07-31\", \"2015-08-31\", \"2015-09-30\", \"2015-10-31\", \"2015-11-30\", \"2015-12-31\", \"2016-01-31\", \"2016-02-29\", \"2016-03-31\", \"2016-04-30\", \"2016-05-31\", \"2016-06-30\", \"2016-07-31\", \"2016-08-31\", \"2016-09-30\", \"2016-10-31\", \"2016-11-30\", \"2016-12-31\", \"2017-01-31\", \"2017-02-28\", \"2017-03-31\", \"2017-04-30\", \"2017-05-31\", \"2017-06-30\"], \"y\": [null, null, 0.0804476167699244, -0.02171531209840971, 0.09201926751761658, 0.06772062528255329, 0.008862369904605316, -0.11394917651344016, 0.05588346896232643, 0.0197564234971761, 0.09476126170131938, 0.07577509203027688, 0.027286248480385744, 0.02832629848810697, 0.0746522438902959, -0.017220597751671285, 0.06948902629742815, 0.10071836377994803, -0.0746061267277982, 0.05961156394817735, 0.09598801803387769, -0.0318742630421065, 0.005769709090243325, 0.04431573454833959, -0.03797801003771628, -0.033441154420311925, -0.06849868571221762, -0.025235949245141498, 0.08329065437079475, -0.005801456651161274, -0.11679029105870864, -0.07822347552032394, -0.001331433817136407, 0.11974615040576353, -0.1507311424066602, 0.06933885854820687, -0.04359638501510865, 0.08623527394698094, 0.023343471369801527, 0.06344815310404162, 0.004324999018601616, -0.021782279644624758, 0.046840761742427794, 0.04664167037496725, 0.12552424621905978, 0.04754146618335664, -6.961122135695774e-05, 0.06557216424023249], \"mode\": \"line\", \"line\": {\"color\": \"#2D3ECF\"}}, {\"type\": \"scatter\", \"name\": \"Returns\", \"x\": [\"2013-07-31\", \"2013-08-31\", \"2013-09-30\", \"2013-10-31\", \"2013-11-30\", \"2013-12-31\", \"2014-01-31\", \"2014-02-28\", \"2014-03-31\", \"2014-04-30\", \"2014-05-31\", \"2014-06-30\", \"2014-07-31\", \"2014-08-31\", \"2014-09-30\", \"2014-10-31\", \"2014-11-30\", \"2014-12-31\", \"2015-01-31\", \"2015-02-28\", \"2015-03-31\", \"2015-04-30\", \"2015-05-31\", \"2015-06-30\", \"2015-07-31\", \"2015-08-31\", \"2015-09-30\", \"2015-10-31\", \"2015-11-30\", \"2015-12-31\", \"2016-01-31\", \"2016-02-29\", \"2016-03-31\", \"2016-04-30\", \"2016-05-31\", \"2016-06-30\", \"2016-07-31\", \"2016-08-31\", \"2016-09-30\", \"2016-10-31\", \"2016-11-30\", \"2016-12-31\", \"2017-01-31\", \"2017-02-28\", \"2017-03-31\", \"2017-04-30\", \"2017-05-31\", \"2017-06-30\"], \"y\": [null, 0.0804476167699244, -0.02171531209840971, 0.09201926751761658, 0.06772062528255329, 0.008862369904605316, -0.11394917651344016, 0.05588346896232643, 0.0197564234971761, 0.09476126170131938, 0.07577509203027688, 0.027286248480385744, 0.02832629848810697, 0.0746522438902959, -0.017220597751671285, 0.06948902629742815, 0.10071836377994803, -0.0746061267277982, 0.05961156394817735, 0.09598801803387769, -0.0318742630421065, 0.005769709090243325, 0.04431573454833959, -0.03797801003771628, -0.033441154420311925, -0.06849868571221762, -0.025235949245141498, 0.08329065437079475, -0.005801456651161274, -0.11679029105870864, -0.07822347552032394, -0.001331433817136407, 0.11974615040576353, -0.1507311424066602, 0.06933885854820687, -0.04359638501510865, 0.08623527394698094, 0.023343471369801527, 0.06344815310404162, 0.004324999018601616, -0.021782279644624758, 0.046840761742427794, 0.04664167037496725, 0.12552424621905978, 0.04754146618335664, -6.961122135695774e-05, 0.06557216424023249, -0.05891588353659394], \"mode\": \"line\", \"line\": {\"color\": \"#B6B2CF\"}}], {\"title\": \"Previous Returns of AAPL Stock\"}, {\"showLink\": false, \"linkText\": \"Export to plot.ly\", \"displayModeBar\": false})});</script>"
      ]
     },
     "metadata": {},
     "output_type": "display_data"
    },
    {
     "data": {
      "application/vnd.plotly.v1+json": {
       "data": [
        {
         "line": {
          "color": "#2D3ECF"
         },
         "mode": "line",
         "name": "Shifted Returns",
         "type": "scatter",
         "x": [
          "2013-07-31",
          "2013-08-31",
          "2013-09-30",
          "2013-10-31",
          "2013-11-30",
          "2013-12-31",
          "2014-01-31",
          "2014-02-28",
          "2014-03-31",
          "2014-04-30",
          "2014-05-31",
          "2014-06-30",
          "2014-07-31",
          "2014-08-31",
          "2014-09-30",
          "2014-10-31",
          "2014-11-30",
          "2014-12-31",
          "2015-01-31",
          "2015-02-28",
          "2015-03-31",
          "2015-04-30",
          "2015-05-31",
          "2015-06-30",
          "2015-07-31",
          "2015-08-31",
          "2015-09-30",
          "2015-10-31",
          "2015-11-30",
          "2015-12-31",
          "2016-01-31",
          "2016-02-29",
          "2016-03-31",
          "2016-04-30",
          "2016-05-31",
          "2016-06-30",
          "2016-07-31",
          "2016-08-31",
          "2016-09-30",
          "2016-10-31",
          "2016-11-30",
          "2016-12-31",
          "2017-01-31",
          "2017-02-28",
          "2017-03-31",
          "2017-04-30",
          "2017-05-31",
          "2017-06-30"
         ],
         "y": [
          0.0804476167699244,
          -0.02171531209840971,
          0.09201926751761658,
          0.06772062528255329,
          0.008862369904605316,
          -0.11394917651344016,
          0.05588346896232643,
          0.0197564234971761,
          0.09476126170131938,
          0.07577509203027688,
          0.027286248480385744,
          0.02832629848810697,
          0.0746522438902959,
          -0.017220597751671285,
          0.06948902629742815,
          0.10071836377994803,
          -0.0746061267277982,
          0.05961156394817735,
          0.09598801803387769,
          -0.0318742630421065,
          0.005769709090243325,
          0.04431573454833959,
          -0.03797801003771628,
          -0.033441154420311925,
          -0.06849868571221762,
          -0.025235949245141498,
          0.08329065437079475,
          -0.005801456651161274,
          -0.11679029105870864,
          -0.07822347552032394,
          -0.001331433817136407,
          0.11974615040576353,
          -0.1507311424066602,
          0.06933885854820687,
          -0.04359638501510865,
          0.08623527394698094,
          0.023343471369801527,
          0.06344815310404162,
          0.004324999018601616,
          -0.021782279644624758,
          0.046840761742427794,
          0.04664167037496725,
          0.12552424621905978,
          0.04754146618335664,
          -6.961122135695774e-05,
          0.06557216424023249,
          -0.05891588353659394,
          null
         ]
        },
        {
         "line": {
          "color": "#B6B2CF"
         },
         "mode": "line",
         "name": "Returns",
         "type": "scatter",
         "x": [
          "2013-07-31",
          "2013-08-31",
          "2013-09-30",
          "2013-10-31",
          "2013-11-30",
          "2013-12-31",
          "2014-01-31",
          "2014-02-28",
          "2014-03-31",
          "2014-04-30",
          "2014-05-31",
          "2014-06-30",
          "2014-07-31",
          "2014-08-31",
          "2014-09-30",
          "2014-10-31",
          "2014-11-30",
          "2014-12-31",
          "2015-01-31",
          "2015-02-28",
          "2015-03-31",
          "2015-04-30",
          "2015-05-31",
          "2015-06-30",
          "2015-07-31",
          "2015-08-31",
          "2015-09-30",
          "2015-10-31",
          "2015-11-30",
          "2015-12-31",
          "2016-01-31",
          "2016-02-29",
          "2016-03-31",
          "2016-04-30",
          "2016-05-31",
          "2016-06-30",
          "2016-07-31",
          "2016-08-31",
          "2016-09-30",
          "2016-10-31",
          "2016-11-30",
          "2016-12-31",
          "2017-01-31",
          "2017-02-28",
          "2017-03-31",
          "2017-04-30",
          "2017-05-31",
          "2017-06-30"
         ],
         "y": [
          null,
          0.0804476167699244,
          -0.02171531209840971,
          0.09201926751761658,
          0.06772062528255329,
          0.008862369904605316,
          -0.11394917651344016,
          0.05588346896232643,
          0.0197564234971761,
          0.09476126170131938,
          0.07577509203027688,
          0.027286248480385744,
          0.02832629848810697,
          0.0746522438902959,
          -0.017220597751671285,
          0.06948902629742815,
          0.10071836377994803,
          -0.0746061267277982,
          0.05961156394817735,
          0.09598801803387769,
          -0.0318742630421065,
          0.005769709090243325,
          0.04431573454833959,
          -0.03797801003771628,
          -0.033441154420311925,
          -0.06849868571221762,
          -0.025235949245141498,
          0.08329065437079475,
          -0.005801456651161274,
          -0.11679029105870864,
          -0.07822347552032394,
          -0.001331433817136407,
          0.11974615040576353,
          -0.1507311424066602,
          0.06933885854820687,
          -0.04359638501510865,
          0.08623527394698094,
          0.023343471369801527,
          0.06344815310404162,
          0.004324999018601616,
          -0.021782279644624758,
          0.046840761742427794,
          0.04664167037496725,
          0.12552424621905978,
          0.04754146618335664,
          -6.961122135695774e-05,
          0.06557216424023249,
          -0.05891588353659394
         ]
        }
       ],
       "layout": {
        "title": "Lookahead Returns of AAPL Stock"
       }
      },
      "text/html": [
       "<div id=\"34ffec5c-0e63-4726-b145-d6aeb242fef7\" style=\"height: 525px; width: 100%;\" class=\"plotly-graph-div\"></div><script type=\"text/javascript\">require([\"plotly\"], function(Plotly) { window.PLOTLYENV=window.PLOTLYENV || {};window.PLOTLYENV.BASE_URL=\"https://plot.ly\";Plotly.newPlot(\"34ffec5c-0e63-4726-b145-d6aeb242fef7\", [{\"type\": \"scatter\", \"name\": \"Shifted Returns\", \"x\": [\"2013-07-31\", \"2013-08-31\", \"2013-09-30\", \"2013-10-31\", \"2013-11-30\", \"2013-12-31\", \"2014-01-31\", \"2014-02-28\", \"2014-03-31\", \"2014-04-30\", \"2014-05-31\", \"2014-06-30\", \"2014-07-31\", \"2014-08-31\", \"2014-09-30\", \"2014-10-31\", \"2014-11-30\", \"2014-12-31\", \"2015-01-31\", \"2015-02-28\", \"2015-03-31\", \"2015-04-30\", \"2015-05-31\", \"2015-06-30\", \"2015-07-31\", \"2015-08-31\", \"2015-09-30\", \"2015-10-31\", \"2015-11-30\", \"2015-12-31\", \"2016-01-31\", \"2016-02-29\", \"2016-03-31\", \"2016-04-30\", \"2016-05-31\", \"2016-06-30\", \"2016-07-31\", \"2016-08-31\", \"2016-09-30\", \"2016-10-31\", \"2016-11-30\", \"2016-12-31\", \"2017-01-31\", \"2017-02-28\", \"2017-03-31\", \"2017-04-30\", \"2017-05-31\", \"2017-06-30\"], \"y\": [0.0804476167699244, -0.02171531209840971, 0.09201926751761658, 0.06772062528255329, 0.008862369904605316, -0.11394917651344016, 0.05588346896232643, 0.0197564234971761, 0.09476126170131938, 0.07577509203027688, 0.027286248480385744, 0.02832629848810697, 0.0746522438902959, -0.017220597751671285, 0.06948902629742815, 0.10071836377994803, -0.0746061267277982, 0.05961156394817735, 0.09598801803387769, -0.0318742630421065, 0.005769709090243325, 0.04431573454833959, -0.03797801003771628, -0.033441154420311925, -0.06849868571221762, -0.025235949245141498, 0.08329065437079475, -0.005801456651161274, -0.11679029105870864, -0.07822347552032394, -0.001331433817136407, 0.11974615040576353, -0.1507311424066602, 0.06933885854820687, -0.04359638501510865, 0.08623527394698094, 0.023343471369801527, 0.06344815310404162, 0.004324999018601616, -0.021782279644624758, 0.046840761742427794, 0.04664167037496725, 0.12552424621905978, 0.04754146618335664, -6.961122135695774e-05, 0.06557216424023249, -0.05891588353659394, null], \"mode\": \"line\", \"line\": {\"color\": \"#2D3ECF\"}}, {\"type\": \"scatter\", \"name\": \"Returns\", \"x\": [\"2013-07-31\", \"2013-08-31\", \"2013-09-30\", \"2013-10-31\", \"2013-11-30\", \"2013-12-31\", \"2014-01-31\", \"2014-02-28\", \"2014-03-31\", \"2014-04-30\", \"2014-05-31\", \"2014-06-30\", \"2014-07-31\", \"2014-08-31\", \"2014-09-30\", \"2014-10-31\", \"2014-11-30\", \"2014-12-31\", \"2015-01-31\", \"2015-02-28\", \"2015-03-31\", \"2015-04-30\", \"2015-05-31\", \"2015-06-30\", \"2015-07-31\", \"2015-08-31\", \"2015-09-30\", \"2015-10-31\", \"2015-11-30\", \"2015-12-31\", \"2016-01-31\", \"2016-02-29\", \"2016-03-31\", \"2016-04-30\", \"2016-05-31\", \"2016-06-30\", \"2016-07-31\", \"2016-08-31\", \"2016-09-30\", \"2016-10-31\", \"2016-11-30\", \"2016-12-31\", \"2017-01-31\", \"2017-02-28\", \"2017-03-31\", \"2017-04-30\", \"2017-05-31\", \"2017-06-30\"], \"y\": [null, 0.0804476167699244, -0.02171531209840971, 0.09201926751761658, 0.06772062528255329, 0.008862369904605316, -0.11394917651344016, 0.05588346896232643, 0.0197564234971761, 0.09476126170131938, 0.07577509203027688, 0.027286248480385744, 0.02832629848810697, 0.0746522438902959, -0.017220597751671285, 0.06948902629742815, 0.10071836377994803, -0.0746061267277982, 0.05961156394817735, 0.09598801803387769, -0.0318742630421065, 0.005769709090243325, 0.04431573454833959, -0.03797801003771628, -0.033441154420311925, -0.06849868571221762, -0.025235949245141498, 0.08329065437079475, -0.005801456651161274, -0.11679029105870864, -0.07822347552032394, -0.001331433817136407, 0.11974615040576353, -0.1507311424066602, 0.06933885854820687, -0.04359638501510865, 0.08623527394698094, 0.023343471369801527, 0.06344815310404162, 0.004324999018601616, -0.021782279644624758, 0.046840761742427794, 0.04664167037496725, 0.12552424621905978, 0.04754146618335664, -6.961122135695774e-05, 0.06557216424023249, -0.05891588353659394], \"mode\": \"line\", \"line\": {\"color\": \"#B6B2CF\"}}], {\"title\": \"Lookahead Returns of AAPL Stock\"}, {\"showLink\": false, \"linkText\": \"Export to plot.ly\", \"displayModeBar\": false})});</script>"
      ],
      "text/vnd.plotly.v1+html": [
       "<div id=\"34ffec5c-0e63-4726-b145-d6aeb242fef7\" style=\"height: 525px; width: 100%;\" class=\"plotly-graph-div\"></div><script type=\"text/javascript\">require([\"plotly\"], function(Plotly) { window.PLOTLYENV=window.PLOTLYENV || {};window.PLOTLYENV.BASE_URL=\"https://plot.ly\";Plotly.newPlot(\"34ffec5c-0e63-4726-b145-d6aeb242fef7\", [{\"type\": \"scatter\", \"name\": \"Shifted Returns\", \"x\": [\"2013-07-31\", \"2013-08-31\", \"2013-09-30\", \"2013-10-31\", \"2013-11-30\", \"2013-12-31\", \"2014-01-31\", \"2014-02-28\", \"2014-03-31\", \"2014-04-30\", \"2014-05-31\", \"2014-06-30\", \"2014-07-31\", \"2014-08-31\", \"2014-09-30\", \"2014-10-31\", \"2014-11-30\", \"2014-12-31\", \"2015-01-31\", \"2015-02-28\", \"2015-03-31\", \"2015-04-30\", \"2015-05-31\", \"2015-06-30\", \"2015-07-31\", \"2015-08-31\", \"2015-09-30\", \"2015-10-31\", \"2015-11-30\", \"2015-12-31\", \"2016-01-31\", \"2016-02-29\", \"2016-03-31\", \"2016-04-30\", \"2016-05-31\", \"2016-06-30\", \"2016-07-31\", \"2016-08-31\", \"2016-09-30\", \"2016-10-31\", \"2016-11-30\", \"2016-12-31\", \"2017-01-31\", \"2017-02-28\", \"2017-03-31\", \"2017-04-30\", \"2017-05-31\", \"2017-06-30\"], \"y\": [0.0804476167699244, -0.02171531209840971, 0.09201926751761658, 0.06772062528255329, 0.008862369904605316, -0.11394917651344016, 0.05588346896232643, 0.0197564234971761, 0.09476126170131938, 0.07577509203027688, 0.027286248480385744, 0.02832629848810697, 0.0746522438902959, -0.017220597751671285, 0.06948902629742815, 0.10071836377994803, -0.0746061267277982, 0.05961156394817735, 0.09598801803387769, -0.0318742630421065, 0.005769709090243325, 0.04431573454833959, -0.03797801003771628, -0.033441154420311925, -0.06849868571221762, -0.025235949245141498, 0.08329065437079475, -0.005801456651161274, -0.11679029105870864, -0.07822347552032394, -0.001331433817136407, 0.11974615040576353, -0.1507311424066602, 0.06933885854820687, -0.04359638501510865, 0.08623527394698094, 0.023343471369801527, 0.06344815310404162, 0.004324999018601616, -0.021782279644624758, 0.046840761742427794, 0.04664167037496725, 0.12552424621905978, 0.04754146618335664, -6.961122135695774e-05, 0.06557216424023249, -0.05891588353659394, null], \"mode\": \"line\", \"line\": {\"color\": \"#2D3ECF\"}}, {\"type\": \"scatter\", \"name\": \"Returns\", \"x\": [\"2013-07-31\", \"2013-08-31\", \"2013-09-30\", \"2013-10-31\", \"2013-11-30\", \"2013-12-31\", \"2014-01-31\", \"2014-02-28\", \"2014-03-31\", \"2014-04-30\", \"2014-05-31\", \"2014-06-30\", \"2014-07-31\", \"2014-08-31\", \"2014-09-30\", \"2014-10-31\", \"2014-11-30\", \"2014-12-31\", \"2015-01-31\", \"2015-02-28\", \"2015-03-31\", \"2015-04-30\", \"2015-05-31\", \"2015-06-30\", \"2015-07-31\", \"2015-08-31\", \"2015-09-30\", \"2015-10-31\", \"2015-11-30\", \"2015-12-31\", \"2016-01-31\", \"2016-02-29\", \"2016-03-31\", \"2016-04-30\", \"2016-05-31\", \"2016-06-30\", \"2016-07-31\", \"2016-08-31\", \"2016-09-30\", \"2016-10-31\", \"2016-11-30\", \"2016-12-31\", \"2017-01-31\", \"2017-02-28\", \"2017-03-31\", \"2017-04-30\", \"2017-05-31\", \"2017-06-30\"], \"y\": [null, 0.0804476167699244, -0.02171531209840971, 0.09201926751761658, 0.06772062528255329, 0.008862369904605316, -0.11394917651344016, 0.05588346896232643, 0.0197564234971761, 0.09476126170131938, 0.07577509203027688, 0.027286248480385744, 0.02832629848810697, 0.0746522438902959, -0.017220597751671285, 0.06948902629742815, 0.10071836377994803, -0.0746061267277982, 0.05961156394817735, 0.09598801803387769, -0.0318742630421065, 0.005769709090243325, 0.04431573454833959, -0.03797801003771628, -0.033441154420311925, -0.06849868571221762, -0.025235949245141498, 0.08329065437079475, -0.005801456651161274, -0.11679029105870864, -0.07822347552032394, -0.001331433817136407, 0.11974615040576353, -0.1507311424066602, 0.06933885854820687, -0.04359638501510865, 0.08623527394698094, 0.023343471369801527, 0.06344815310404162, 0.004324999018601616, -0.021782279644624758, 0.046840761742427794, 0.04664167037496725, 0.12552424621905978, 0.04754146618335664, -6.961122135695774e-05, 0.06557216424023249, -0.05891588353659394], \"mode\": \"line\", \"line\": {\"color\": \"#B6B2CF\"}}], {\"title\": \"Lookahead Returns of AAPL Stock\"}, {\"showLink\": false, \"linkText\": \"Export to plot.ly\", \"displayModeBar\": false})});</script>"
      ]
     },
     "metadata": {},
     "output_type": "display_data"
    }
   ],
   "source": [
    "prev_returns = shift_returns(monthly_close_returns, 1)\n",
    "lookahead_returns = shift_returns(monthly_close_returns, -1)\n",
    "\n",
    "project_helper.plot_shifted_returns(\n",
    "    prev_returns.loc[:, apple_ticker],\n",
    "    monthly_close_returns.loc[:, apple_ticker],\n",
    "    'Previous Returns of {} Stock'.format(apple_ticker))\n",
    "project_helper.plot_shifted_returns(\n",
    "    lookahead_returns.loc[:, apple_ticker],\n",
    "    monthly_close_returns.loc[:, apple_ticker],\n",
    "    'Lookahead Returns of {} Stock'.format(apple_ticker))"
   ]
  },
  {
   "cell_type": "markdown",
   "metadata": {},
   "source": [
    "## Generate Trading Signal\n",
    "\n",
    "A trading signal is a sequence of trading actions, or results that can be used to take trading actions. A common form is to produce a \"long\" and \"short\" portfolio of stocks on each date (e.g. end of each month, or whatever frequency you desire to trade at). This signal can be interpreted as rebalancing your portfolio on each of those dates, entering long (\"buy\") and short (\"sell\") positions as indicated.\n",
    "\n",
    "Here's a strategy that we will try:\n",
    "> For each month-end observation period, rank the stocks by _previous_ returns, from the highest to the lowest. Select the top performing stocks for the long portfolio, and the bottom performing stocks for the short portfolio.\n",
    "\n",
    "Implement the `get_top_n` function to get the top performing stock for each month. Get the top performing stocks from `prev_returns` by assigning them a value of 1. For all other stocks, give them a value of 0. For example, using the following `prev_returns`:\n",
    "\n",
    "```\n",
    "                                     Previous Returns\n",
    "               A         B         C         D         E         F         G\n",
    "2013-07-08     0.015     0.082     0.096     0.020     0.075     0.043     0.074\n",
    "2013-07-09     0.037     0.095     0.027     0.063     0.024     0.086     0.025\n",
    "...            ...       ...       ...       ...       ...       ...       ...\n",
    "```\n",
    "\n",
    "The function `get_top_n` with `top_n` set to 3 should return the following:\n",
    "```\n",
    "                                     Previous Returns\n",
    "               A         B         C         D         E         F         G\n",
    "2013-07-08     0         1         1         0         1         0         0\n",
    "2013-07-09     0         1         0         1         0         1         0\n",
    "...            ...       ...       ...       ...       ...       ...       ...\n",
    "```\n",
    "*Note: You may have to use Panda's [`DataFrame.iterrows`](https://pandas.pydata.org/pandas-docs/version/0.21/generated/pandas.DataFrame.iterrows.html) with [`Series.nlargest`](https://pandas.pydata.org/pandas-docs/version/0.21/generated/pandas.Series.nlargest.html) in order to implement the function. This is one of those cases where creating a vecorization solution is too difficult.*"
   ]
  },
  {
   "cell_type": "code",
   "execution_count": 30,
   "metadata": {
    "scrolled": true
   },
   "outputs": [
    {
     "name": "stdout",
     "output_type": "stream",
     "text": [
      "                   PCL        NHNU         HMY         QBY        VGBN\n",
      "2008-08-31         nan         nan         nan         nan         nan\n",
      "2008-09-30         nan         nan         nan         nan         nan\n",
      "2008-10-31  3.13172138  0.72709204  5.76874778  1.77557845  0.04098317\n",
      "2008-11-30 -3.78816218 -0.67583590 -4.95433863 -1.67093250 -0.24929051\n",
      "3\n",
      "PCL    0.00000000\n",
      "NHNU   0.00000000\n",
      "HMY    0.00000000\n",
      "Name: 2008-08-31 00:00:00, dtype: float64\n",
      "PCL    0.00000000\n",
      "NHNU   0.00000000\n",
      "HMY    0.00000000\n",
      "Name: 2008-09-30 00:00:00, dtype: float64\n",
      "HMY   5.76874778\n",
      "PCL   3.13172138\n",
      "QBY   1.77557845\n",
      "Name: 2008-10-31 00:00:00, dtype: float64\n",
      "VGBN   -0.24929051\n",
      "NHNU   -0.67583590\n",
      "QBY    -1.67093250\n",
      "Name: 2008-11-30 00:00:00, dtype: float64\n",
      "                  PCL        NHNU        HMY         QBY        VGBN\n",
      "2008-08-31 0.00000000  0.00000000 0.00000000  0.00000000  0.00000000\n",
      "2008-09-30 0.00000000  0.00000000 0.00000000  0.00000000  0.00000000\n",
      "2008-10-31 3.13172138  0.00000000 5.76874778  1.77557845  0.00000000\n",
      "2008-11-30 0.00000000 -0.67583590 0.00000000 -1.67093250 -0.24929051\n",
      "            PCL  NHNU  HMY  QBY  VGBN\n",
      "2008-08-31    0     0    0    0     0\n",
      "2008-09-30    0     0    0    0     0\n",
      "2008-10-31    1     0    1    1     0\n",
      "2008-11-30    0     1    0    1     1\n",
      "Tests Passed\n"
     ]
    }
   ],
   "source": [
    "def get_top_n(prev_returns, top_n):\n",
    "    \"\"\"\n",
    "    Select the top performing stocks\n",
    "    \n",
    "    Parameters\n",
    "    ----------\n",
    "    prev_returns : DataFrame\n",
    "        Previous shifted returns for each ticker and date\n",
    "    top_n : int\n",
    "        The number of top performing stocks to get\n",
    "    \n",
    "    Returns\n",
    "    -------\n",
    "    top_stocks : DataFrame\n",
    "        Top stocks for each ticker and date marked with a 1\n",
    "    \"\"\"\n",
    "    # TODO: Implement Function\n",
    "    '''\n",
    "    print(prev_returns)\n",
    "    \n",
    "    top_stocks = pd.DataFrame(0,columns = prev_returns.columns, index = prev_returns.index)\n",
    "    \n",
    "    df = prev_returns.apply(lambda x: x.nlargest(top_n),axis=1)\n",
    "    \n",
    "    top_stocks = top_stocks.merge(df, how = 'right').set_index(df.index)\n",
    "    #print (top_stocks)\n",
    "    #print (df)\n",
    "    top_stocks = (top_stocks.notnull())*1\n",
    "    top_stocks.astype(np.int64)\n",
    "    print (top_stocks)\n",
    "    return top_stocks\n",
    "   \n",
    "    print(prev_returns)\n",
    "    for row in prev_returns.iterrows():\n",
    "        series = pd.Series(row)\n",
    "        if series.isnull ==False :\n",
    "            print(series)\n",
    "            temp_row = series\n",
    "            top_row = temp_row.nlargest(top_n) '''\n",
    "    \n",
    "    #print (prev_returns.series.dtype)   \n",
    "    top_returns = prev_returns.fillna(0)\n",
    "    print (prev_returns) \n",
    "    print(top_n)\n",
    "    \n",
    "    for i, row in top_returns.iterrows():\n",
    "        #print(f\"Index: {i}\")\n",
    "        #print(f\"{row}\\n\")\n",
    "        print(top_returns.loc[i].nlargest(top_n))\n",
    "        top_returns.loc[i]=top_returns.loc[i].nlargest(top_n)\n",
    "    top_returns = top_returns.fillna(0) \n",
    "    print(top_returns)  \n",
    "    top_returns = top_returns.astype(bool)\n",
    "    top_returns = top_returns.astype(int)\n",
    "    print(top_returns)    \n",
    "    \n",
    "    return top_returns \n",
    "\n",
    "\n",
    "project_tests.test_get_top_n(get_top_n)"
   ]
  },
  {
   "cell_type": "markdown",
   "metadata": {},
   "source": [
    "### View Data\n",
    "We want to get the best performing and worst performing stocks. To get the best performing stocks, we'll use the `get_top_n` function. To get the worst performing stocks, we'll also use the `get_top_n` function. However, we pass in `-1*prev_returns` instead of just `prev_returns`. Multiplying by negative one will flip all the positive returns to negative and negative returns to positive. Thus, it will return the worst performing stocks."
   ]
  },
  {
   "cell_type": "code",
   "execution_count": 31,
   "metadata": {},
   "outputs": [
    {
     "ename": "NameError",
     "evalue": "name 'prev_returns' is not defined",
     "output_type": "error",
     "traceback": [
      "\u001b[0;31m---------------------------------------------------------------------------\u001b[0m",
      "\u001b[0;31mNameError\u001b[0m                                 Traceback (most recent call last)",
      "\u001b[0;32m<ipython-input-31-0096390cbbdc>\u001b[0m in \u001b[0;36m<module>\u001b[0;34m()\u001b[0m\n\u001b[1;32m      1\u001b[0m \u001b[0mtop_bottom_n\u001b[0m \u001b[0;34m=\u001b[0m \u001b[0;36m50\u001b[0m\u001b[0;34m\u001b[0m\u001b[0m\n\u001b[0;32m----> 2\u001b[0;31m \u001b[0mdf_long\u001b[0m \u001b[0;34m=\u001b[0m \u001b[0mget_top_n\u001b[0m\u001b[0;34m(\u001b[0m\u001b[0mprev_returns\u001b[0m\u001b[0;34m,\u001b[0m \u001b[0mtop_bottom_n\u001b[0m\u001b[0;34m)\u001b[0m\u001b[0;34m\u001b[0m\u001b[0m\n\u001b[0m\u001b[1;32m      3\u001b[0m \u001b[0mdf_short\u001b[0m \u001b[0;34m=\u001b[0m \u001b[0mget_top_n\u001b[0m\u001b[0;34m(\u001b[0m\u001b[0;34m-\u001b[0m\u001b[0;36m1\u001b[0m\u001b[0;34m*\u001b[0m\u001b[0mprev_returns\u001b[0m\u001b[0;34m,\u001b[0m \u001b[0mtop_bottom_n\u001b[0m\u001b[0;34m)\u001b[0m\u001b[0;34m\u001b[0m\u001b[0m\n\u001b[1;32m      4\u001b[0m \u001b[0mproject_helper\u001b[0m\u001b[0;34m.\u001b[0m\u001b[0mprint_top\u001b[0m\u001b[0;34m(\u001b[0m\u001b[0mdf_long\u001b[0m\u001b[0;34m,\u001b[0m \u001b[0;34m'Longed Stocks'\u001b[0m\u001b[0;34m)\u001b[0m\u001b[0;34m\u001b[0m\u001b[0m\n\u001b[1;32m      5\u001b[0m \u001b[0mproject_helper\u001b[0m\u001b[0;34m.\u001b[0m\u001b[0mprint_top\u001b[0m\u001b[0;34m(\u001b[0m\u001b[0mdf_short\u001b[0m\u001b[0;34m,\u001b[0m \u001b[0;34m'Shorted Stocks'\u001b[0m\u001b[0;34m)\u001b[0m\u001b[0;34m\u001b[0m\u001b[0m\n",
      "\u001b[0;31mNameError\u001b[0m: name 'prev_returns' is not defined"
     ]
    }
   ],
   "source": [
    "top_bottom_n = 50\n",
    "df_long = get_top_n(prev_returns, top_bottom_n)\n",
    "df_short = get_top_n(-1*prev_returns, top_bottom_n)\n",
    "project_helper.print_top(df_long, 'Longed Stocks')\n",
    "project_helper.print_top(df_short, 'Shorted Stocks')"
   ]
  },
  {
   "cell_type": "markdown",
   "metadata": {},
   "source": [
    "## Projected Returns\n",
    "It's now time to check if your trading signal has the potential to become profitable!\n",
    "\n",
    "We'll start by computing the net returns this portfolio would return. For simplicity, we'll assume every stock gets an equal dollar amount of investment. This makes it easier to compute a portfolio's returns as the simple arithmetic average of the individual stock returns.\n",
    "\n",
    "Implement the `portfolio_returns` function to compute the expected portfolio returns. Using `df_long` to indicate which stocks to long and `df_short` to indicate which stocks to short, calculate the returns using `lookahead_returns`. To help with calculation, we've provided you with `n_stocks` as the number of stocks we're investing in a single period."
   ]
  },
  {
   "cell_type": "code",
   "execution_count": 48,
   "metadata": {},
   "outputs": [
    {
     "name": "stdout",
     "output_type": "stream",
     "text": [
      "            CFIV  QLOP  CTRG  CSY  IPQ\n",
      "2008-08-31     0     0     0    0    0\n",
      "2008-09-30     0     0     0    0    0\n",
      "2008-10-31     1     0     1    1    0\n",
      "2008-11-30     0     1     0    1    1\n",
      "            CFIV  QLOP  CTRG  CSY  IPQ\n",
      "2008-08-31     0     0     0    0    0\n",
      "2008-09-30     0     0     0    0    0\n",
      "2008-10-31     0     1     0    1    1\n",
      "2008-11-30     1     1     1    0    0\n",
      "                  CFIV        QLOP        CTRG         CSY         IPQ\n",
      "2008-08-31  3.13172138  0.72709204  5.76874778  1.77557845  0.04098317\n",
      "2008-09-30 -3.78816218 -0.67583590 -4.95433863 -1.67093250 -0.24929051\n",
      "2008-10-31  0.05579709  0.29199789  0.00697116  1.05956179  0.30686995\n",
      "2008-11-30  1.25459098  6.87369275  2.58265839  6.92676837  0.84632677\n",
      "3\n",
      "                  CFIV        QLOP        CTRG         CSY         IPQ\n",
      "2008-08-31  0.00000000  0.00000000  0.00000000  0.00000000  0.00000000\n",
      "2008-09-30 -0.00000000 -0.00000000 -0.00000000 -0.00000000 -0.00000000\n",
      "2008-10-31  0.01859903  0.00000000  0.00232372  0.35318726  0.00000000\n",
      "2008-11-30  0.00000000  2.29123092  0.00000000  2.30892279  0.28210892\n",
      "                  CFIV        QLOP        CTRG         CSY         IPQ\n",
      "2008-08-31  0.00000000  0.00000000  0.00000000  0.00000000  0.00000000\n",
      "2008-09-30 -0.00000000 -0.00000000 -0.00000000 -0.00000000 -0.00000000\n",
      "2008-10-31  0.00000000  0.09733263  0.00000000  0.35318726  0.10228998\n",
      "2008-11-30  0.41819699  2.29123092  0.86088613  0.00000000  0.00000000\n",
      "Tests Passed\n"
     ]
    }
   ],
   "source": [
    "def portfolio_returns(df_long, df_short, lookahead_returns, n_stocks):\n",
    "    \"\"\"\n",
    "    Compute expected returns for the portfolio, assuming equal investment in each long/short stock.\n",
    "    \n",
    "    Parameters\n",
    "    ----------\n",
    "    df_long : DataFrame\n",
    "        Top stocks for each ticker and date marked with a 1\n",
    "    df_short : DataFrame\n",
    "        Bottom stocks for each ticker and date marked with a 1\n",
    "    lookahead_returns : DataFrame\n",
    "        Lookahead returns for each ticker and date\n",
    "    n_stocks: int\n",
    "        The number number of stocks chosen for each month\n",
    "    \n",
    "    Returns\n",
    "    -------\n",
    "    portfolio_returns : DataFrame\n",
    "        Expected portfolio returns for each ticker and date\n",
    "    \"\"\"\n",
    "    # TODO: Implement Function\n",
    "    print(df_long)\n",
    "    print(df_short)\n",
    "    print(lookahead_returns)\n",
    "    print(n_stocks)\n",
    "    \n",
    "    print(df_long*lookahead_returns/n_stocks)\n",
    "    print(df_short*lookahead_returns/n_stocks)\n",
    "    \n",
    "    return (df_long*lookahead_returns/n_stocks) - (df_short*lookahead_returns/n_stocks)\n",
    "\n",
    "project_tests.test_portfolio_returns(portfolio_returns)"
   ]
  },
  {
   "cell_type": "markdown",
   "metadata": {},
   "source": [
    "### View Data\n",
    "Time to see how the portfolio did."
   ]
  },
  {
   "cell_type": "code",
   "execution_count": 49,
   "metadata": {},
   "outputs": [
    {
     "ename": "NameError",
     "evalue": "name 'df_long' is not defined",
     "output_type": "error",
     "traceback": [
      "\u001b[0;31m---------------------------------------------------------------------------\u001b[0m",
      "\u001b[0;31mNameError\u001b[0m                                 Traceback (most recent call last)",
      "\u001b[0;32m<ipython-input-49-0cfee780d34a>\u001b[0m in \u001b[0;36m<module>\u001b[0;34m()\u001b[0m\n\u001b[0;32m----> 1\u001b[0;31m \u001b[0mexpected_portfolio_returns\u001b[0m \u001b[0;34m=\u001b[0m \u001b[0mportfolio_returns\u001b[0m\u001b[0;34m(\u001b[0m\u001b[0mdf_long\u001b[0m\u001b[0;34m,\u001b[0m \u001b[0mdf_short\u001b[0m\u001b[0;34m,\u001b[0m \u001b[0mlookahead_returns\u001b[0m\u001b[0;34m,\u001b[0m \u001b[0;36m2\u001b[0m\u001b[0;34m*\u001b[0m\u001b[0mtop_bottom_n\u001b[0m\u001b[0;34m)\u001b[0m\u001b[0;34m\u001b[0m\u001b[0m\n\u001b[0m\u001b[1;32m      2\u001b[0m \u001b[0mproject_helper\u001b[0m\u001b[0;34m.\u001b[0m\u001b[0mplot_returns\u001b[0m\u001b[0;34m(\u001b[0m\u001b[0mexpected_portfolio_returns\u001b[0m\u001b[0;34m.\u001b[0m\u001b[0mT\u001b[0m\u001b[0;34m.\u001b[0m\u001b[0msum\u001b[0m\u001b[0;34m(\u001b[0m\u001b[0;34m)\u001b[0m\u001b[0;34m,\u001b[0m \u001b[0;34m'Portfolio Returns'\u001b[0m\u001b[0;34m)\u001b[0m\u001b[0;34m\u001b[0m\u001b[0m\n",
      "\u001b[0;31mNameError\u001b[0m: name 'df_long' is not defined"
     ]
    }
   ],
   "source": [
    "expected_portfolio_returns = portfolio_returns(df_long, df_short, lookahead_returns, 2*top_bottom_n)\n",
    "project_helper.plot_returns(expected_portfolio_returns.T.sum(), 'Portfolio Returns')"
   ]
  },
  {
   "cell_type": "markdown",
   "metadata": {},
   "source": [
    "## Statistical Tests\n",
    "### Annualized Rate of Return"
   ]
  },
  {
   "cell_type": "code",
   "execution_count": 50,
   "metadata": {},
   "outputs": [
    {
     "ename": "NameError",
     "evalue": "name 'expected_portfolio_returns' is not defined",
     "output_type": "error",
     "traceback": [
      "\u001b[0;31m---------------------------------------------------------------------------\u001b[0m",
      "\u001b[0;31mNameError\u001b[0m                                 Traceback (most recent call last)",
      "\u001b[0;32m<ipython-input-50-324ef2be5a38>\u001b[0m in \u001b[0;36m<module>\u001b[0;34m()\u001b[0m\n\u001b[0;32m----> 1\u001b[0;31m \u001b[0mexpected_portfolio_returns_by_date\u001b[0m \u001b[0;34m=\u001b[0m \u001b[0mexpected_portfolio_returns\u001b[0m\u001b[0;34m.\u001b[0m\u001b[0mT\u001b[0m\u001b[0;34m.\u001b[0m\u001b[0msum\u001b[0m\u001b[0;34m(\u001b[0m\u001b[0;34m)\u001b[0m\u001b[0;34m.\u001b[0m\u001b[0mdropna\u001b[0m\u001b[0;34m(\u001b[0m\u001b[0;34m)\u001b[0m\u001b[0;34m\u001b[0m\u001b[0m\n\u001b[0m\u001b[1;32m      2\u001b[0m \u001b[0mportfolio_ret_mean\u001b[0m \u001b[0;34m=\u001b[0m \u001b[0mexpected_portfolio_returns_by_date\u001b[0m\u001b[0;34m.\u001b[0m\u001b[0mmean\u001b[0m\u001b[0;34m(\u001b[0m\u001b[0;34m)\u001b[0m\u001b[0;34m\u001b[0m\u001b[0m\n\u001b[1;32m      3\u001b[0m \u001b[0mportfolio_ret_ste\u001b[0m \u001b[0;34m=\u001b[0m \u001b[0mexpected_portfolio_returns_by_date\u001b[0m\u001b[0;34m.\u001b[0m\u001b[0msem\u001b[0m\u001b[0;34m(\u001b[0m\u001b[0;34m)\u001b[0m\u001b[0;34m\u001b[0m\u001b[0m\n\u001b[1;32m      4\u001b[0m \u001b[0mportfolio_ret_annual_rate\u001b[0m \u001b[0;34m=\u001b[0m \u001b[0;34m(\u001b[0m\u001b[0mnp\u001b[0m\u001b[0;34m.\u001b[0m\u001b[0mexp\u001b[0m\u001b[0;34m(\u001b[0m\u001b[0mportfolio_ret_mean\u001b[0m \u001b[0;34m*\u001b[0m \u001b[0;36m12\u001b[0m\u001b[0;34m)\u001b[0m \u001b[0;34m-\u001b[0m \u001b[0;36m1\u001b[0m\u001b[0;34m)\u001b[0m \u001b[0;34m*\u001b[0m \u001b[0;36m100\u001b[0m\u001b[0;34m\u001b[0m\u001b[0m\n\u001b[1;32m      5\u001b[0m \u001b[0;34m\u001b[0m\u001b[0m\n",
      "\u001b[0;31mNameError\u001b[0m: name 'expected_portfolio_returns' is not defined"
     ]
    }
   ],
   "source": [
    "expected_portfolio_returns_by_date = expected_portfolio_returns.T.sum().dropna()\n",
    "portfolio_ret_mean = expected_portfolio_returns_by_date.mean()\n",
    "portfolio_ret_ste = expected_portfolio_returns_by_date.sem()\n",
    "portfolio_ret_annual_rate = (np.exp(portfolio_ret_mean * 12) - 1) * 100\n",
    "\n",
    "print(\"\"\"\n",
    "Mean:                       {:.6f}\n",
    "Standard Error:             {:.6f}\n",
    "Annualized Rate of Return:  {:.2f}%\n",
    "\"\"\".format(portfolio_ret_mean, portfolio_ret_ste, portfolio_ret_annual_rate))"
   ]
  },
  {
   "cell_type": "markdown",
   "metadata": {},
   "source": [
    "The annualized rate of return allows you to compare the rate of return from this strategy to other quoted rates of return, which are usually quoted on an annual basis. \n",
    "\n",
    "### T-Test\n",
    "Our null hypothesis ($H_0$) is that the actual mean return from the signal is zero. We'll perform a one-sample, one-sided t-test on the observed mean return, to see if we can reject $H_0$.\n",
    "\n",
    "We'll need to first compute the t-statistic, and then find its corresponding p-value. The p-value will indicate the probability of observing a mean return equally or more extreme than the one we observed if the null hypothesis were true. A small p-value means that the chance of observing the mean we observed under the null hypothesis is small, and thus casts doubt on the null hypothesis. It's good practice to set a desired level of significance or alpha ($\\alpha$) _before_ computing the p-value, and then reject the null hypothesis if $p < \\alpha$.\n",
    "\n",
    "For this project, we'll use $\\alpha = 0.05$, since it's a common value to use.\n",
    "\n",
    "Implement the `analyze_alpha` function to perform a t-test on the sample of portfolio returns. We've imported the `scipy.stats` module for you to perform the t-test.\n",
    "\n",
    "Note: [`scipy.stats.ttest_1samp`](https://docs.scipy.org/doc/scipy-1.0.0/reference/generated/scipy.stats.ttest_1samp.html) performs a two-sided test, so divide the p-value by 2 to get 1-sided p-value"
   ]
  },
  {
   "cell_type": "code",
   "execution_count": 76,
   "metadata": {},
   "outputs": [
    {
     "name": "stdout",
     "output_type": "stream",
     "text": [
      "2008-08-31    0.00000000\n",
      "2008-09-30    0.00000000\n",
      "2008-10-31    0.01859903\n",
      "2008-11-30   -0.41819699\n",
      "dtype: float64\n",
      "Ttest_1sampResult(statistic=-0.94076445661840524, pvalue=0.41622819641354447)\n",
      "Tests Passed\n"
     ]
    }
   ],
   "source": [
    "from scipy import stats\n",
    "\n",
    "def analyze_alpha(expected_portfolio_returns_by_date):\n",
    "    \"\"\"\n",
    "    Perform a t-test with the null hypothesis being that the expected mean return is zero.\n",
    "    \n",
    "    Parameters\n",
    "    ----------\n",
    "    expected_portfolio_returns_by_date : Pandas Series\n",
    "        Expected portfolio returns for each date\n",
    "    \n",
    "    Returns\n",
    "    -------\n",
    "    t_value\n",
    "        T-statistic from t-test\n",
    "    p_value\n",
    "        Corresponding p-value\n",
    "    \"\"\"\n",
    "    # TODO: Implement Function\n",
    "    print(expected_portfolio_returns_by_date)\n",
    "    ttest=stats.ttest_1samp(expected_portfolio_returns_by_date,0.0)\n",
    "    p_value=ttest[1]\n",
    "    print(ttest)\n",
    "    \n",
    "    return ttest[0],ttest[1]/2\n",
    "\n",
    "project_tests.test_analyze_alpha(analyze_alpha)"
   ]
  },
  {
   "cell_type": "markdown",
   "metadata": {},
   "source": [
    "### View Data\n",
    "Let's see what values we get with our portfolio. After you run this, make sure to answer the question below."
   ]
  },
  {
   "cell_type": "code",
   "execution_count": 77,
   "metadata": {},
   "outputs": [
    {
     "ename": "NameError",
     "evalue": "name 'expected_portfolio_returns_by_date' is not defined",
     "output_type": "error",
     "traceback": [
      "\u001b[0;31m---------------------------------------------------------------------------\u001b[0m",
      "\u001b[0;31mNameError\u001b[0m                                 Traceback (most recent call last)",
      "\u001b[0;32m<ipython-input-77-07fe8a203bd1>\u001b[0m in \u001b[0;36m<module>\u001b[0;34m()\u001b[0m\n\u001b[0;32m----> 1\u001b[0;31m \u001b[0mt_value\u001b[0m\u001b[0;34m,\u001b[0m \u001b[0mp_value\u001b[0m \u001b[0;34m=\u001b[0m \u001b[0manalyze_alpha\u001b[0m\u001b[0;34m(\u001b[0m\u001b[0mexpected_portfolio_returns_by_date\u001b[0m\u001b[0;34m)\u001b[0m\u001b[0;34m\u001b[0m\u001b[0m\n\u001b[0m\u001b[1;32m      2\u001b[0m print(\"\"\"\n\u001b[1;32m      3\u001b[0m \u001b[0mAlpha\u001b[0m \u001b[0manalysis\u001b[0m\u001b[0;34m:\u001b[0m\u001b[0;34m\u001b[0m\u001b[0m\n\u001b[1;32m      4\u001b[0m  \u001b[0mt\u001b[0m\u001b[0;34m-\u001b[0m\u001b[0mvalue\u001b[0m\u001b[0;34m:\u001b[0m        \u001b[0;34m{\u001b[0m\u001b[0;34m:\u001b[0m\u001b[0;36m.3\u001b[0m\u001b[0mf\u001b[0m\u001b[0;34m}\u001b[0m\u001b[0;34m\u001b[0m\u001b[0m\n\u001b[1;32m      5\u001b[0m  \u001b[0mp\u001b[0m\u001b[0;34m-\u001b[0m\u001b[0mvalue\u001b[0m\u001b[0;34m:\u001b[0m        \u001b[0;34m{\u001b[0m\u001b[0;34m:\u001b[0m\u001b[0;36m.6\u001b[0m\u001b[0mf\u001b[0m\u001b[0;34m}\u001b[0m\u001b[0;34m\u001b[0m\u001b[0m\n",
      "\u001b[0;31mNameError\u001b[0m: name 'expected_portfolio_returns_by_date' is not defined"
     ]
    }
   ],
   "source": [
    "t_value, p_value = analyze_alpha(expected_portfolio_returns_by_date)\n",
    "print(\"\"\"\n",
    "Alpha analysis:\n",
    " t-value:        {:.3f}\n",
    " p-value:        {:.6f}\n",
    "\"\"\".format(t_value, p_value))"
   ]
  },
  {
   "cell_type": "markdown",
   "metadata": {},
   "source": [
    "### Question: What p-value did you observe? And what does that indicate about your signal?"
   ]
  },
  {
   "cell_type": "markdown",
   "metadata": {},
   "source": [
    "*#TODO: Put Answer In this Cell*\n",
    "my p-value is 0.41622819641354447 and the alpha value is 0.05 since my p-value is greater than the alpha , the null hypothesis cannot be rejected and the signal is not highly accurate"
   ]
  },
  {
   "cell_type": "markdown",
   "metadata": {},
   "source": [
    "## Submission\n",
    "Now that you're done with the project, it's time to submit it. Click the submit button in the bottom right. One of our reviewers will give you feedback on your project with a pass or not passed grade. You can continue to the next section while you wait for feedback."
   ]
  }
 ],
 "metadata": {
  "kernelspec": {
   "display_name": "Python 3",
   "language": "python",
   "name": "python3"
  },
  "language_info": {
   "codemirror_mode": {
    "name": "ipython",
    "version": 3
   },
   "file_extension": ".py",
   "mimetype": "text/x-python",
   "name": "python",
   "nbconvert_exporter": "python",
   "pygments_lexer": "ipython3",
   "version": "3.6.3"
  }
 },
 "nbformat": 4,
 "nbformat_minor": 2
}
